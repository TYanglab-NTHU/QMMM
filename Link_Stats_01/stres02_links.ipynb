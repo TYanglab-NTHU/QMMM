{
 "cells": [
  {
   "cell_type": "code",
   "execution_count": 2,
   "metadata": {},
   "outputs": [
    {
     "name": "stdout",
     "output_type": "stream",
     "text": [
      "Xmin: 40\n",
      "Xmax: 343\n",
      "Ymin: 0\n",
      "Ymax: 18\n"
     ]
    },
    {
     "data": {
      "image/png": "[encoded data removed]",
      "text/plain": [
       "<Figure size 576x432 with 2 Axes>"
      ]
     },
     "metadata": {
      "needs_background": "light"
     },
     "output_type": "display_data"
    }
   ],
   "source": [
    "import pandas as pd               # import the data\n",
    "import seaborn as sns             # data visualization\n",
    "from collections import Counter   # data countaine (storage)\n",
    "import matplotlib.pyplot as plt   # plot the data\n",
    "from matplotlib import pyplot as plt,ticker\n",
    "import numpy as np                # numerical mathematics\n",
    "from scipy import stats           # scientific mathematic algorithms\n",
    "\n",
    "# read file (later dodes will create cvs files directly)\n",
    "tot_at = []\n",
    "links = []\n",
    "with open(\"/dicos_ui_home/tlankau/QMMM/Link_Stats_01/stress02.dat\") as file:\n",
    "    for line in file:\n",
    "      line = line.rstrip()\n",
    "      line = line.split()\n",
    "      x = int(line[2])\n",
    "      tot_at.append(x)\n",
    "      y = int(line[8])\n",
    "      links.append(y)\n",
    "\n",
    "# basic stats of the columns\n",
    "print(\"Xmin:\", min(tot_at))\n",
    "print(\"Xmax:\", max(tot_at))\n",
    "print(\"Ymin:\", min(links))\n",
    "print(\"Ymax:\", max(links))\n",
    "\n",
    "# create a dictionary with all data to be plotted\n",
    "data = {\"tot\": tot_at, \"links\": links}\n",
    "\n",
    "# create a plot to work on\n",
    "fig, ax = plt.subplots(figsize=(8, 6))\n",
    "\n",
    "# create a title for the plot\n",
    "plt.title(\"QM-MM bonds\", size=20)\n",
    "\n",
    "# define the label of the axes\n",
    "plt.xlabel('number of atoms',size=16)\n",
    "plt.ylabel('number of QM-MM bonds' ,size=16)\n",
    "\n",
    "# define the axises for the plot\n",
    "ax.set_xlim(0, 400)                                            # range of the x-axis\n",
    "ax.set_ylim(0,  25)                                            # range of the y-axis\n",
    "ax.xaxis.set_major_locator(ticker.MultipleLocator(base=100))   # x-axis major ticks\n",
    "ax.xaxis.set_minor_locator(ticker.MultipleLocator(base=50))    # x-axis minor ticks\n",
    "ax.yaxis.set_major_locator(ticker.MultipleLocator(base=5))     # y-axis major ticks\n",
    "ax.yaxis.set_minor_locator(ticker.MultipleLocator(base=2.5))  # y-axis minor ticks\n",
    "# ax.grid(True, which='both')\n",
    "\n",
    "# create histogrm for the density\n",
    "ax = sns.histplot(x=data['tot'], y=data['links'], bins=50, cmap=\"winter\", cbar=True, element=\"step\", cbar_kws={'label': 'Count'})\n",
    "cbar = ax.collections[0].colorbar\n",
    "cbar.locator = ticker.MaxNLocator(integer=True)\n",
    "cbar.update_ticks()\n",
    "\n",
    "plt.tight_layout()\n",
    "# plt.show()\n",
    "plt.savefig('/dicos_ui_home/tlankau/QMMM/Link_Stats_01/stress02_links.jpg', dpi=400)\n"
   ]
  }
 ],
 "metadata": {
  "kernelspec": {
   "display_name": "chem",
   "language": "python",
   "name": "python3"
  },
  "language_info": {
   "codemirror_mode": {
    "name": "ipython",
    "version": 3
   },
   "file_extension": ".py",
   "mimetype": "text/x-python",
   "name": "python",
   "nbconvert_exporter": "python",
   "pygments_lexer": "ipython3",
   "version": "3.6.13"
  }
 },
 "nbformat": 4,
 "nbformat_minor": 2
}
